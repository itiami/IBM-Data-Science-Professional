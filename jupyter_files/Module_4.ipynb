{
 "cells": [
  {
   "cell_type": "code",
   "execution_count": 1,
   "id": "172f4051-2a84-4549-a599-13f0e35cc4b7",
   "metadata": {},
   "outputs": [
    {
     "name": "stdout",
     "output_type": "stream",
     "text": [
      "My name is John and I am 30 years old.\n"
     ]
    }
   ],
   "source": [
    "name = \"John\"\n",
    "age = 30\n",
    "print(f\"My name is {name} and I am {age} years old.\")"
   ]
  },
  {
   "cell_type": "code",
   "execution_count": 2,
   "id": "4397ea10-c9a8-4464-bf8d-3d437723e838",
   "metadata": {},
   "outputs": [
    {
     "name": "stdout",
     "output_type": "stream",
     "text": [
      "My name is John and I am 50 years old.\n"
     ]
    }
   ],
   "source": [
    "name = \"John\"\n",
    "age = 50\n",
    "print(\"My name is {} and I am {} years old.\".format(name, age))"
   ]
  },
  {
   "cell_type": "code",
   "execution_count": 3,
   "id": "0bec6e06-be1c-400c-8221-878d83a72628",
   "metadata": {},
   "outputs": [
    {
     "name": "stdout",
     "output_type": "stream",
     "text": [
      "My name is Johnathan and I am 30 years old.\n"
     ]
    }
   ],
   "source": [
    "name = \"Johnathan\"\n",
    "age = 30\n",
    "print(\"My name is %s and I am %d years old.\" % (name, age))"
   ]
  },
  {
   "cell_type": "code",
   "execution_count": 4,
   "id": "9e570098-89ff-49ca-ba16-c70285cf250f",
   "metadata": {},
   "outputs": [
    {
     "name": "stdout",
     "output_type": "stream",
     "text": [
      "The sum of x and y is 30.\n"
     ]
    }
   ],
   "source": [
    "x = 10\n",
    "y = 20\n",
    "print(f\"The sum of x and y is {x+y}.\")"
   ]
  },
  {
   "cell_type": "code",
   "execution_count": 5,
   "id": "09ebf6aa-e015-42e0-b9c3-84e30d664db7",
   "metadata": {},
   "outputs": [
    {
     "name": "stdout",
     "output_type": "stream",
     "text": [
      "Regular String: C:\n",
      "ew_folder\f",
      "ile.txt\n"
     ]
    }
   ],
   "source": [
    "regular_string = \"C:\\new_folder\\file.txt\"\n",
    "print(\"Regular String:\", regular_string)"
   ]
  },
  {
   "cell_type": "code",
   "execution_count": 8,
   "id": "c97862c1-d573-45f8-b1f2-f6e35fa71601",
   "metadata": {},
   "outputs": [
    {
     "name": "stdout",
     "output_type": "stream",
     "text": [
      "Regular String: C:\\new_folder\\file.txt\n"
     ]
    }
   ],
   "source": [
    "## Or we can use\n",
    "regular_string = \"C:\\\\new_folder\\\\file.txt\"\n",
    "print(\"Regular String:\", regular_string)"
   ]
  },
  {
   "cell_type": "code",
   "execution_count": 6,
   "id": "5a9a4c05-a92e-469f-a925-5622dfd0a81b",
   "metadata": {},
   "outputs": [
    {
     "name": "stdout",
     "output_type": "stream",
     "text": [
      "Raw String: C:\\new_folder\\file.txt\n"
     ]
    }
   ],
   "source": [
    "raw_string = r\"C:\\new_folder\\file.txt\"\n",
    "print(\"Raw String:\", raw_string)"
   ]
  },
  {
   "cell_type": "code",
   "execution_count": 16,
   "id": "10a20356-e86c-4646-bb36-c21d94620353",
   "metadata": {},
   "outputs": [
    {
     "name": "stdout",
     "output_type": "stream",
     "text": [
      "T\n",
      "d\n",
      "TBGd\n",
      "The \n",
      "The \n",
      "TeB\n"
     ]
    }
   ],
   "source": [
    "name = \"The BodyGuard\"\n",
    "print(name[0])\n",
    "print(name[-1])\n",
    "print(name[::4])\n",
    "print(name[:4])\n",
    "print(name[0:4])\n",
    "print(name[0:5:2])\n"
   ]
  },
  {
   "cell_type": "code",
   "execution_count": 9,
   "id": "524eafe5-ad34-49dc-bd6a-3bf3ff62280b",
   "metadata": {},
   "outputs": [
    {
     "name": "stdout",
     "output_type": "stream",
     "text": [
      "0: 10\n",
      "1: 11\n",
      "2: 12\n",
      "3: 13\n",
      "4: 14\n"
     ]
    }
   ],
   "source": [
    "rng = range(10,15)\n",
    "for i, r in enumerate(rng):\n",
    "    print(f\"{i}: {r}\")"
   ]
  },
  {
   "cell_type": "code",
   "execution_count": null,
   "id": "c8fe10c3-b799-4886-a796-66f7ca157251",
   "metadata": {},
   "outputs": [],
   "source": [
    "rng = range(10, 15)\n",
    "index = 0\n",
    "\n",
    "while index < len(rng):\n",
    "    print(rng[index])\n",
    "    index += 1\n"
   ]
  }
 ],
 "metadata": {
  "kernelspec": {
   "display_name": "Python 3 (ipykernel)",
   "language": "python",
   "name": "python3"
  },
  "language_info": {
   "codemirror_mode": {
    "name": "ipython",
    "version": 3
   },
   "file_extension": ".py",
   "mimetype": "text/x-python",
   "name": "python",
   "nbconvert_exporter": "python",
   "pygments_lexer": "ipython3",
   "version": "3.12.7"
  }
 },
 "nbformat": 4,
 "nbformat_minor": 5
}
