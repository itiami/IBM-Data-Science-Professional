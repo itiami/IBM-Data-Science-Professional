{
 "cells": [
  {
   "cell_type": "markdown",
   "metadata": {
    "collapsed": true,
    "id": "77989cbf-04d7-40ea-8adf-5cc58996ae18",
    "jupyter": {
     "outputs_hidden": true
    }
   },
   "source": [
    "My Jupyter Notebook on IBM watsonx.ai"
   ]
  },
  {
   "cell_type": "markdown",
   "metadata": {
    "id": "ce6debae-503d-4eb7-906b-a8262f7a0f6c"
   },
   "source": [
    "**ABDULLAH al numan** <br>\n",
    "Data Scientist"
   ]
  },
  {
   "cell_type": "markdown",
   "metadata": {
    "id": "78726d90-c0bb-484d-8392-7880280d9429"
   },
   "source": [
    "*I want to be a data scientiest -- because*\n",
    "- *Intellectual Challenge*\n",
    "- *Interdisciplinary Nature*\n",
    "- *Impactful Work*\n",
    "- *High Demand & Job Security .. etc*"
   ]
  },
  {
   "cell_type": "markdown",
   "metadata": {
    "id": "c859b444-9ed6-445b-afd0-49a9faf5c424"
   },
   "source": [
    "### I am using the Watsonx.ami for processing, analysis, and visualization"
   ]
  },
  {
   "cell_type": "code",
   "execution_count": 5,
   "metadata": {
    "id": "6a18c1aa-cdf7-48ff-bf49-865699538fb4"
   },
   "outputs": [
    {
     "data": {
      "text/plain": [
       "2"
      ]
     },
     "execution_count": 5,
     "metadata": {},
     "output_type": "execute_result"
    }
   ],
   "source": [
    "1+1"
   ]
  },
  {
   "cell_type": "markdown",
   "metadata": {
    "id": "9f1cc168-19ae-45e0-a7b5-fdaed79a4617"
   },
   "source": [
    "<h2>Example of HTML & CSS Markdown </h2>\n",
    "<h4>Bulleted List</h4>\n",
    "<ul style=\"list-style-type: disc; color: darkblue;\">\n",
    "  <li>Apple</li>\n",
    "  <li>Banana</li>\n",
    "  <li>Cherry</li>\n",
    "</ul>\n",
    "\n",
    "<h4>Numbered Listt</h4>\n",
    "<ol style=\"color: darkgreen; font-weight: bold;\">\n",
    "  <li>First</li>\n",
    "  <li>Second</li>\n",
    "  <li>Third</li>\n",
    "</ol>\n",
    "\n",
    "<h4>Example Table with display flex</h4>\n",
    "<table style=\"display: flex\">\n",
    "  <tr>\n",
    "    <th style=\"border:1px solid black;\">Name</th>\n",
    "    <th style=\"border:1px solid black;\">Age</th>\n",
    "  </tr>\n",
    "  <tr>\n",
    "    <td style=\"border:1px solid black;\">Alice</td>\n",
    "    <td style=\"border:1px solid black;\">25</td>\n",
    "  </tr>\n",
    "  <tr>\n",
    "    <td style=\"border:1px solid black;\">Bob</td>\n",
    "    <td style=\"border:1px solid black;\">30</td>\n",
    "  </tr>\n",
    "</table>\n",
    "\n",
    "<h4>Hyperlink</h4>\n",
    "<a href=\"https://www.example.com\" target=\"_blank\" style=\"color: blue; text-decoration: none;\">\n",
    "  Visit Example\n",
    "</a>\n",
    "\n",
    "<h4>Image with width 50% and height=auto</h4>\n",
    "<img src=\"https://upload.wikimedia.org/wikipedia/commons/5/51/IBM_logo.svg\" alt=\"IBM\" \n",
    "     style=\"width: 25%; height: auto\">\n",
    "\n"
   ]
  }
 ],
 "metadata": {
  "kernelspec": {
   "display_name": "Python 3 (ipykernel)",
   "language": "python",
   "name": "python3"
  },
  "language_info": {
   "codemirror_mode": {
    "name": "ipython",
    "version": 3
   },
   "file_extension": ".py",
   "mimetype": "text/x-python",
   "name": "python",
   "nbconvert_exporter": "python",
   "pygments_lexer": "ipython3",
   "version": "3.12.7"
  }
 },
 "nbformat": 4,
 "nbformat_minor": 4
}
