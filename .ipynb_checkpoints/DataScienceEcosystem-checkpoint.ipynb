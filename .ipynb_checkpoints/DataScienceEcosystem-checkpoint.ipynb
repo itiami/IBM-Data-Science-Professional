{
 "cells": [
  {
   "cell_type": "markdown",
   "id": "d0ad2cf3-531b-4eaa-b262-45289bafb10b",
   "metadata": {
    "editable": true,
    "slideshow": {
     "slide_type": ""
    },
    "tags": []
   },
   "source": [
    "# Data Science Tools and Ecosystem"
   ]
  },
  {
   "cell_type": "markdown",
   "id": "b496380b-e4dc-412b-8575-a6f33fc0a473",
   "metadata": {},
   "source": [
    "In this notebook, Data Science Tools and Ecosystem are summarized."
   ]
  },
  {
   "cell_type": "markdown",
   "id": "5eda81b2-fa24-4ee7-a226-80fa0f858c84",
   "metadata": {},
   "source": [
    "Some of the popular languages that Data Scientists use are:\n",
    "1. R\n",
    "2. Python\n",
    "3. Java\n",
    "4. C++\n",
    "5. Julia\n",
    "6. Scala"
   ]
  },
  {
   "cell_type": "markdown",
   "id": "d6be59ee-a59f-442c-9585-005fc5720e2c",
   "metadata": {},
   "source": [
    "Some of the commonly used libraries used by Data Scientists include:\n",
    "1. Pandas\n",
    "2. NymPy\n",
    "3. Matplotlib\n",
    "4. Seaborn\n",
    "5. Scikit\n",
    "6. TersorFlow\n",
    "7. PyTorch"
   ]
  },
  {
   "cell_type": "markdown",
   "id": "87b3c4e9-6534-4429-82e7-edb52913e89c",
   "metadata": {},
   "source": [
    "|Data Science Tools|\n",
    "|------------------|\n",
    "|Jupyter Notebook|\n",
    "|RStudio|\n",
    "|VS Code|\n",
    "|Spyder|"
   ]
  },
  {
   "cell_type": "markdown",
   "id": "cae76c41-a958-4d97-9aad-7d6bf7d30142",
   "metadata": {},
   "source": [
    "### Below are a few examples of evaluating arithmetic expressions in Python"
   ]
  },
  {
   "cell_type": "markdown",
   "id": "63bd90c7-72eb-4444-afbd-cf5455c40ec6",
   "metadata": {},
   "source": [
    "This a simple arithmetic expression to mutiply then add integers\n"
   ]
  },
  {
   "cell_type": "code",
   "execution_count": 5,
   "id": "b7a8844e-dac9-435b-97ee-eb045eae457e",
   "metadata": {},
   "outputs": [
    {
     "data": {
      "text/plain": [
       "17"
      ]
     },
     "execution_count": 5,
     "metadata": {},
     "output_type": "execute_result"
    }
   ],
   "source": [
    "(3*4)+5"
   ]
  },
  {
   "cell_type": "markdown",
   "id": "26623c2d-b046-4350-a74f-59979a413ce5",
   "metadata": {},
   "source": [
    "This will convert 200 minutes to hours by diving by 60"
   ]
  },
  {
   "cell_type": "code",
   "execution_count": 1,
   "id": "5c4e7f08-cf31-4c25-9814-e103d3cba81a",
   "metadata": {},
   "outputs": [
    {
     "name": "stdout",
     "output_type": "stream",
     "text": [
      "200 minutes is 3 hours and 20 minutes\n"
     ]
    }
   ],
   "source": [
    "minutes = 200\n",
    "hours = minutes // 60\n",
    "remaining_minutes = minutes % 60\n",
    "print(f\"{minutes} minutes is {hours} hours and {remaining_minutes} minutes\")"
   ]
  },
  {
   "cell_type": "markdown",
   "id": "72a8ffc6-4fea-4f40-9d44-6798158112f1",
   "metadata": {},
   "source": [
    "List popular languages for Data Science\n",
    "- R\n",
    "- Python\n",
    "- Java\n",
    "- C++\n",
    "- Julia\n",
    "- Scala"
   ]
  },
  {
   "cell_type": "markdown",
   "id": "7df3847c-d84a-4cb5-8724-2dec5e23bb4b",
   "metadata": {},
   "source": [
    "# Author\n",
    "*ABDULLAH al numan*"
   ]
  },
  {
   "cell_type": "code",
   "execution_count": null,
   "id": "e3774719-33c0-4a7b-9fef-222df27f1ba4",
   "metadata": {},
   "outputs": [],
   "source": []
  }
 ],
 "metadata": {
  "kernelspec": {
   "display_name": "Python 3 (ipykernel)",
   "language": "python",
   "name": "python3"
  },
  "language_info": {
   "codemirror_mode": {
    "name": "ipython",
    "version": 3
   },
   "file_extension": ".py",
   "mimetype": "text/x-python",
   "name": "python",
   "nbconvert_exporter": "python",
   "pygments_lexer": "ipython3",
   "version": "3.12.7"
  }
 },
 "nbformat": 4,
 "nbformat_minor": 5
}
