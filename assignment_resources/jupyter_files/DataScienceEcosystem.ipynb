{
  "cells": [
    {
      "cell_type": "markdown",
      "id": "d0ad2cf3-531b-4eaa-b262-45289bafb10b",
      "metadata": {
        "editable": true,
        "panel-layout": {
          "height": 60.59375,
          "visible": true,
          "width": 100
        },
        "tags": [],
        "id": "d0ad2cf3-531b-4eaa-b262-45289bafb10b"
      },
      "source": [
        "# Data Science Tools and Ecosystem"
      ]
    },
    {
      "cell_type": "markdown",
      "id": "b496380b-e4dc-412b-8575-a6f33fc0a473",
      "metadata": {
        "panel-layout": {
          "height": 51.140625,
          "visible": true,
          "width": 100
        },
        "id": "b496380b-e4dc-412b-8575-a6f33fc0a473"
      },
      "source": [
        "In this notebook, Data Science Tools and Ecosystem are summarized."
      ]
    },
    {
      "cell_type": "markdown",
      "id": "5eda81b2-fa24-4ee7-a226-80fa0f858c84",
      "metadata": {
        "panel-layout": {
          "height": 165.984375,
          "visible": true,
          "width": 100
        },
        "id": "5eda81b2-fa24-4ee7-a226-80fa0f858c84"
      },
      "source": [
        "Some of the popular languages that Data Scientists use are:\n",
        "1. R\n",
        "2. Python\n",
        "3. Java\n",
        "4. C++\n",
        "5. Julia\n",
        "6. Scala"
      ]
    },
    {
      "cell_type": "markdown",
      "id": "d6be59ee-a59f-442c-9585-005fc5720e2c",
      "metadata": {
        "panel-layout": {
          "height": 183.125,
          "visible": true,
          "width": 100
        },
        "id": "d6be59ee-a59f-442c-9585-005fc5720e2c"
      },
      "source": [
        "Some of the commonly used libraries used by Data Scientists include:\n",
        "1. Pandas\n",
        "2. NymPy\n",
        "3. Matplotlib\n",
        "4. Seaborn\n",
        "5. Scikit\n",
        "6. TersorFlow\n",
        "7. PyTorch"
      ]
    },
    {
      "cell_type": "markdown",
      "id": "87b3c4e9-6534-4429-82e7-edb52913e89c",
      "metadata": {
        "panel-layout": {
          "height": 151.703125,
          "visible": true,
          "width": 100
        },
        "id": "87b3c4e9-6534-4429-82e7-edb52913e89c"
      },
      "source": [
        "|Data Science Tools|\n",
        "|------------------|\n",
        "|Jupyter Notebook|\n",
        "|RStudio|\n",
        "|VS Code|\n",
        "|Spyder|"
      ]
    },
    {
      "cell_type": "markdown",
      "id": "cae76c41-a958-4d97-9aad-7d6bf7d30142",
      "metadata": {
        "panel-layout": {
          "height": 64.15625,
          "visible": true,
          "width": 100
        },
        "id": "cae76c41-a958-4d97-9aad-7d6bf7d30142"
      },
      "source": [
        "### Below are a few examples of evaluating arithmetic expressions in Python"
      ]
    },
    {
      "cell_type": "markdown",
      "id": "63bd90c7-72eb-4444-afbd-cf5455c40ec6",
      "metadata": {
        "panel-layout": {
          "height": 51.140625,
          "visible": true,
          "width": 100
        },
        "id": "63bd90c7-72eb-4444-afbd-cf5455c40ec6"
      },
      "source": [
        "This a simple arithmetic expression to mutiply then add integers\n"
      ]
    },
    {
      "cell_type": "code",
      "execution_count": null,
      "id": "b7a8844e-dac9-435b-97ee-eb045eae457e",
      "metadata": {
        "panel-layout": {
          "height": 27.140625,
          "visible": true,
          "width": 100
        },
        "id": "b7a8844e-dac9-435b-97ee-eb045eae457e",
        "outputId": "51181797-5dcd-46b5-d976-b4523666411d"
      },
      "outputs": [
        {
          "data": {
            "text/plain": [
              "17"
            ]
          },
          "execution_count": 5,
          "metadata": {},
          "output_type": "execute_result"
        }
      ],
      "source": [
        "(3*4)+5"
      ]
    },
    {
      "cell_type": "markdown",
      "id": "26623c2d-b046-4350-a74f-59979a413ce5",
      "metadata": {
        "panel-layout": {
          "height": 51.140625,
          "visible": true,
          "width": 100
        },
        "id": "26623c2d-b046-4350-a74f-59979a413ce5"
      },
      "source": [
        "This will convert 200 minutes to hours by diving by 60"
      ]
    },
    {
      "cell_type": "code",
      "execution_count": null,
      "id": "5c4e7f08-cf31-4c25-9814-e103d3cba81a",
      "metadata": {
        "panel-layout": {
          "height": 0,
          "visible": true,
          "width": 100
        },
        "id": "5c4e7f08-cf31-4c25-9814-e103d3cba81a",
        "outputId": "9f09e100-2308-48fd-e121-489210f293b6"
      },
      "outputs": [
        {
          "name": "stdout",
          "output_type": "stream",
          "text": [
            "200 minutes is 3 hours and 20 minutes\n"
          ]
        }
      ],
      "source": [
        "minutes = 200\n",
        "hours = minutes // 60\n",
        "remaining_minutes = minutes % 60\n",
        "print(f\"{minutes} minutes is {hours} hours and {remaining_minutes} minutes\")"
      ]
    },
    {
      "cell_type": "markdown",
      "id": "72a8ffc6-4fea-4f40-9d44-6798158112f1",
      "metadata": {
        "panel-layout": {
          "height": 165.984375,
          "visible": true,
          "width": 100
        },
        "id": "72a8ffc6-4fea-4f40-9d44-6798158112f1"
      },
      "source": [
        "List popular languages for Data Science\n",
        "- R\n",
        "- Python\n",
        "- Java\n",
        "- C++\n",
        "- Julia\n",
        "- Scala"
      ]
    },
    {
      "cell_type": "markdown",
      "id": "7df3847c-d84a-4cb5-8724-2dec5e23bb4b",
      "metadata": {
        "editable": true,
        "panel-layout": {
          "height": 93.578125,
          "visible": true,
          "width": 100
        },
        "tags": [],
        "id": "7df3847c-d84a-4cb5-8724-2dec5e23bb4b"
      },
      "source": [
        "# Author\n",
        "*ABDULLAH al numan*"
      ]
    }
  ],
  "metadata": {
    "kernelspec": {
      "display_name": "Python 3 (ipykernel)",
      "language": "python",
      "name": "python3"
    },
    "language_info": {
      "codemirror_mode": {
        "name": "ipython",
        "version": 3
      },
      "file_extension": ".py",
      "mimetype": "text/x-python",
      "name": "python",
      "nbconvert_exporter": "python",
      "pygments_lexer": "ipython3",
      "version": "3.12.7"
    },
    "panel-cell-order": [
      "d0ad2cf3-531b-4eaa-b262-45289bafb10b",
      "b496380b-e4dc-412b-8575-a6f33fc0a473",
      "5eda81b2-fa24-4ee7-a226-80fa0f858c84",
      "d6be59ee-a59f-442c-9585-005fc5720e2c",
      "87b3c4e9-6534-4429-82e7-edb52913e89c",
      "cae76c41-a958-4d97-9aad-7d6bf7d30142",
      "63bd90c7-72eb-4444-afbd-cf5455c40ec6",
      "b7a8844e-dac9-435b-97ee-eb045eae457e",
      "26623c2d-b046-4350-a74f-59979a413ce5",
      "5c4e7f08-cf31-4c25-9814-e103d3cba81a",
      "72a8ffc6-4fea-4f40-9d44-6798158112f1",
      "7df3847c-d84a-4cb5-8724-2dec5e23bb4b"
    ],
    "colab": {
      "provenance": []
    }
  },
  "nbformat": 4,
  "nbformat_minor": 5
}